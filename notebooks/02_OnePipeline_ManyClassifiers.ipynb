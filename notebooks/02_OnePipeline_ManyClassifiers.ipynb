{
 "cells": [
  {
   "cell_type": "markdown",
   "metadata": {
    "id": "janWv1vG5xUD"
   },
   "source": [
    "# Text Classification with Naive Bayes, Logistic Regression, SVM"
   ]
  },
  {
   "cell_type": "markdown",
   "metadata": {
    "id": "gBCjEALX5xWj"
   },
   "source": [
    "**Overview:** This notebook aims to give you a brief overview of performing text classification using Naive Bayes, Logistic Regression and Support Vector Machines. Our goal in this notebook is to explore the process of training and testing text classifiers for this problem, using this data set and two text classification algorithms: Multinomial Naive Bayes and Logistic Regression, implemented in sklearn. \n",
    "\n",
    "<br><br>\n",
    "Let's import few necessary packages before we start our work"
   ]
  },
  {
   "cell_type": "code",
   "execution_count": 1,
   "metadata": {
    "id": "QBvvarqE5xWm"
   },
   "outputs": [],
   "source": [
    "import warnings\n",
    "warnings.filterwarnings('ignore')\n",
    "import numpy as np\n",
    "import pandas as pd # to work with csv files\n",
    "\n",
    "# matplotlib imports are used to plot confusion matrices for the classifiers\n",
    "import matplotlib as mpl \n",
    "import matplotlib.cm as cm \n",
    "import matplotlib.pyplot as plt \n",
    "\n",
    "# import feature extraction methods from sklearn\n",
    "from sklearn.feature_extraction.text import CountVectorizer\n",
    "\n",
    "# pre-processing of text\n",
    "import string\n",
    "import re\n",
    "\n",
    "# import classifiers from sklearn\n",
    "from sklearn.naive_bayes import MultinomialNB\n",
    "from sklearn.linear_model import LogisticRegression\n",
    "from sklearn.svm import LinearSVC\n",
    "\n",
    "# import different metrics to evaluate the classifiers\n",
    "from sklearn.metrics import accuracy_score\n",
    "\n",
    "# from sklearn.model_selection import train_test_split\n",
    "from sklearn.metrics import confusion_matrix \n",
    "from sklearn import metrics\n",
    "\n",
    "# import time function from time module to track the training duration\n",
    "from time import time\n",
    "\n",
    "# import nltk\n",
    "from nltk.corpus import stopwords\n",
    "stop_words = stopwords.words('english')"
   ]
  },
  {
   "cell_type": "markdown",
   "metadata": {
    "id": "1giNRemr1lk7"
   },
   "source": [
    "### Section 1: Load and explore the dataset"
   ]
  },
  {
   "cell_type": "code",
   "execution_count": 2,
   "metadata": {
    "colab": {
     "base_uri": "https://localhost:8080/"
    },
    "id": "fVD8N_E51lk7",
    "outputId": "b5893f5e-1123-43f7-d3a5-2e4fb92bfdc9"
   },
   "outputs": [],
   "source": [
    "import os\n",
    "\n",
    "our_data = pd.read_csv(os.path.join('/home/victor/DemoProjects/helpdesk_nlp/downloads', 'dataset_clean.csv'))"
   ]
  },
  {
   "cell_type": "markdown",
   "metadata": {
    "colab": {
     "base_uri": "https://localhost:8080/"
    },
    "id": "fVD8N_E51lk7",
    "outputId": "b5893f5e-1123-43f7-d3a5-2e4fb92bfdc9"
   },
   "source": [
    "#### Remove nulls and empty texts"
   ]
  },
  {
   "cell_type": "code",
   "execution_count": 3,
   "metadata": {
    "colab": {
     "base_uri": "https://localhost:8080/"
    },
    "id": "fVD8N_E51lk7",
    "outputId": "b5893f5e-1123-43f7-d3a5-2e4fb92bfdc9"
   },
   "outputs": [
    {
     "name": "stdout",
     "output_type": "stream",
     "text": [
      "(5163, 9)\n",
      "(155, 9)\n"
     ]
    }
   ],
   "source": [
    "def filter_dataset(df):\n",
    "    df = df[(df['language'] == 'en') & (df['text'] != '') & (df['c3'].notnull()) & (df['c3']!='rest')]\n",
    "    return df\n",
    "\n",
    "print(our_data.shape)\n",
    "\n",
    "our_data = filter_dataset(our_data)\n",
    "\n",
    "print(our_data.shape)"
   ]
  },
  {
   "cell_type": "code",
   "execution_count": 4,
   "metadata": {
    "colab": {
     "base_uri": "https://localhost:8080/",
     "height": 102
    },
    "id": "LbED8Q185xWu",
    "outputId": "2ded8ddf-5553-4f4a-b55f-16454270648d"
   },
   "outputs": [
    {
     "data": {
      "text/plain": [
       "(155, 9)"
      ]
     },
     "metadata": {},
     "output_type": "display_data"
    },
    {
     "data": {
      "text/plain": [
       "dev_fe          0.754839\n",
       "dev_ateam       0.154839\n",
       "dev_gondor      0.045161\n",
       "dev_plugins     0.025806\n",
       "dev_avengers    0.012903\n",
       "dev_mordor      0.006452\n",
       "Name: c3, dtype: float64"
      ]
     },
     "execution_count": 4,
     "metadata": {},
     "output_type": "execute_result"
    }
   ],
   "source": [
    "display(our_data.shape) # Number of rows (instances) and columns in the dataset\n",
    "our_data[\"c3\"].value_counts()/our_data.shape[0] # Class distribution in the dataset"
   ]
  },
  {
   "cell_type": "code",
   "execution_count": 5,
   "metadata": {
    "colab": {
     "base_uri": "https://localhost:8080/",
     "height": 102
    },
    "id": "LbED8Q185xWu",
    "outputId": "2ded8ddf-5553-4f4a-b55f-16454270648d"
   },
   "outputs": [
    {
     "data": {
      "image/png": "[encoded data removed]",
      "text/plain": [
       "<Figure size 432x288 with 1 Axes>"
      ]
     },
     "metadata": {
      "needs_background": "light"
     },
     "output_type": "display_data"
    }
   ],
   "source": [
    "our_data[\"c3\"].value_counts().plot(kind='bar', title='Count (target)');"
   ]
  },
  {
   "cell_type": "markdown",
   "metadata": {
    "id": "vCED1t7F5xW9"
   },
   "source": [
    "There is an imbalance in the data."
   ]
  },
  {
   "cell_type": "code",
   "execution_count": 6,
   "metadata": {
    "colab": {
     "base_uri": "https://localhost:8080/"
    },
    "id": "BYW_S3585xXF",
    "outputId": "b64bb281-6512-43b5-eda9-73d43becb1ae"
   },
   "outputs": [
    {
     "data": {
      "text/plain": [
       "(155, 2)"
      ]
     },
     "execution_count": 6,
     "metadata": {},
     "output_type": "execute_result"
    }
   ],
   "source": [
    "# convert c3 to a numerical variable\n",
    "our_data['label'] = our_data.c3.map({'dev_ateam':0, 'dev_avengers':1, 'dev_gondor':1, 'dev_mordor':1, 'dev_plugins':1, 'dev_fe': 1})\n",
    "our_data = our_data[[\"text\",\"label\"]] # Let us take only the two columns we need.\n",
    "our_data.shape"
   ]
  },
  {
   "cell_type": "markdown",
   "metadata": {
    "id": "fOKz8xQr5xXJ"
   },
   "source": [
    "### Section 2: Text Pre-processing"
   ]
  },
  {
   "cell_type": "markdown",
   "metadata": {
    "id": "yhC5TZuL5xXK"
   },
   "source": [
    "Typical steps involve tokenization, lower casing, removing, stop words, punctuation markers etc, and vectorization. Other processes such as stemming/lemmatization can also be performed. Here, we are performing the following steps: removing br tags, punctuation, numbers, and stopwords. While we are using sklearn's list of stopwords, there are several other stop word lists (e.g., from NLTK) or sometimes, custom stopword lists are needed depending on the task. "
   ]
  },
  {
   "cell_type": "code",
   "execution_count": 7,
   "metadata": {
    "id": "7MZSHdHZ5xXL"
   },
   "outputs": [],
   "source": [
    "def clean(doc): # doc is a string of text\n",
    "    doc = doc.replace(\"</br>\", \" \") # This text contains a lot of <br/> tags.\n",
    "    doc = \"\".join([char for char in doc if char not in string.punctuation and not char.isdigit()])\n",
    "    doc = \" \".join([token for token in doc.split() if token not in stop_words])\n",
    "    # remove punctuation and numbers\n",
    "    return doc"
   ]
  },
  {
   "cell_type": "markdown",
   "metadata": {
    "id": "3CfVm42o5xXS"
   },
   "source": [
    "### Section 3: Modeling\n",
    "\n",
    "Now we are ready for the modelling. We are going to use algorithms from sklearn package. We will go through the following steps:\n",
    "\n",
    "1 Split the data into training and test sets (75% train, 25% test)    \n",
    "2 Extract features from the training data using CountVectorizer, which is a bag of words feature  implementation. We will use the pre-processing function above in conjunction with Count Vectorizer  \n",
    "3 Transform the test data into the same feature vector as the training data.  \n",
    "4 Train the classifier  \n",
    "5 Evaluate the classifier  "
   ]
  },
  {
   "cell_type": "code",
   "execution_count": 8,
   "metadata": {
    "colab": {
     "base_uri": "https://localhost:8080/"
    },
    "id": "GimJJHhg5xYl",
    "outputId": "7ed9cad8-3bd8-416d-a352-4a44fad9dc80",
    "tags": []
   },
   "outputs": [
    {
     "name": "stdout",
     "output_type": "stream",
     "text": [
      "(155,) (155,)\n",
      "(116,) (116,)\n",
      "(39,) (39,)\n"
     ]
    }
   ],
   "source": [
    "import sklearn\n",
    "#from sklearn.cross_validation import train_test_split\n",
    "from sklearn.model_selection import train_test_split\n",
    "\n",
    "# Step 1: train-test split\n",
    "X = our_data.text # the column text contains textual data to extract features from\n",
    "y = our_data.label # this is the column we are learning to predict. \n",
    "print(X.shape, y.shape)\n",
    "# split X and y into training and testing sets. By default, it splits 75% training and 25% test\n",
    "# random_state=1 for reproducibility\n",
    "X_train, X_test, y_train, y_test = train_test_split(X, y, random_state=1)\n",
    "print(X_train.shape, y_train.shape)\n",
    "print(X_test.shape, y_test.shape)"
   ]
  },
  {
   "cell_type": "code",
   "execution_count": 9,
   "metadata": {
    "colab": {
     "base_uri": "https://localhost:8080/"
    },
    "id": "gsUyIBUD5xZI",
    "outputId": "f4082e6a-a1e9-4b4a-c247-8b1b84c7edae",
    "tags": []
   },
   "outputs": [
    {
     "name": "stdout",
     "output_type": "stream",
     "text": [
      "(116, 2053) (39, 2053)\n"
     ]
    }
   ],
   "source": [
    "# Step 2-3: Preprocess and Vectorize train and test data\n",
    "vect = CountVectorizer(preprocessor=clean) # instantiate a vectoriezer\n",
    "X_train_dtm = vect.fit_transform(X_train)# use it to extract features from training data\n",
    "# transform testing data (using training data's features)\n",
    "X_test_dtm = vect.transform(X_test)\n",
    "print(X_train_dtm.shape, X_test_dtm.shape)\n",
    "# i.e., the dimension of our feature vector is 2053"
   ]
  },
  {
   "cell_type": "code",
   "execution_count": 10,
   "metadata": {
    "colab": {
     "base_uri": "https://localhost:8080/"
    },
    "id": "gsUyIBUD5xZI",
    "outputId": "f4082e6a-a1e9-4b4a-c247-8b1b84c7edae",
    "tags": []
   },
   "outputs": [],
   "source": [
    "#### Do the oversampling"
   ]
  },
  {
   "cell_type": "code",
   "execution_count": 11,
   "metadata": {
    "colab": {
     "base_uri": "https://localhost:8080/"
    },
    "id": "gsUyIBUD5xZI",
    "outputId": "f4082e6a-a1e9-4b4a-c247-8b1b84c7edae",
    "tags": []
   },
   "outputs": [
    {
     "name": "stdout",
     "output_type": "stream",
     "text": [
      "(192, 2053) (192,)\n"
     ]
    },
    {
     "data": {
      "image/png": "[encoded data removed]",
      "text/plain": [
       "<Figure size 432x288 with 1 Axes>"
      ]
     },
     "metadata": {
      "needs_background": "light"
     },
     "output_type": "display_data"
    }
   ],
   "source": [
    "from imblearn.over_sampling import SMOTE\n",
    "\n",
    "tl = SMOTE()\n",
    "X_tl, y_tl = tl.fit_resample(X_train_dtm, y_train)\n",
    "print(X_tl.shape, y_tl.shape)\n",
    "\n",
    "y_tl.value_counts().plot(kind='bar', title='Count (target)');"
   ]
  },
  {
   "cell_type": "code",
   "execution_count": 12,
   "metadata": {
    "colab": {
     "base_uri": "https://localhost:8080/"
    },
    "id": "nDLwA4CL5xZq",
    "outputId": "3cb119d8-3017-4ebb-89b9-86dca66e3e92"
   },
   "outputs": [],
   "source": [
    "# Step 3: Train the classifier and predict for test data\n",
    "nb = MultinomialNB() # instantiate a Multinomial Naive Bayes model\n",
    "nb.fit(X_tl, y_tl) # train the model(timing it with an IPython \"magic command\")\n",
    "y_pred_class = nb.predict(X_test_dtm) # make class predictions for X_test_dtm"
   ]
  },
  {
   "cell_type": "code",
   "execution_count": 13,
   "metadata": {
    "colab": {
     "base_uri": "https://localhost:8080/",
     "height": 494
    },
    "id": "LiCHjvc75xZ3",
    "outputId": "1409e48f-0ed6-4705-8688-4e6126662863"
   },
   "outputs": [
    {
     "name": "stdout",
     "output_type": "stream",
     "text": [
      "Accuracy:  0.8974358974358975\n"
     ]
    },
    {
     "data": {
      "image/png": "[encoded data removed]",
      "text/plain": [
       "<Figure size 576x432 with 2 Axes>"
      ]
     },
     "metadata": {
      "needs_background": "light"
     },
     "output_type": "display_data"
    }
   ],
   "source": [
    "# Step 4: Evaluate the classifier using various measures\n",
    "\n",
    "# Function to plot confusion matrix. \n",
    "# Ref:http://scikit-learn.org/stable/auto_examples/model_selection/plot_confusion_matrix.html\n",
    "import itertools\n",
    "from sklearn.metrics import roc_auc_score\n",
    "\n",
    "def plot_confusion_matrix(cm, classes,\n",
    "                          normalize=False,\n",
    "                          title='Confusion matrix',\n",
    "                          cmap=plt.cm.Blues):\n",
    "    \"\"\"\n",
    "    This function prints and plots the confusion matrix.\n",
    "    Normalization can be applied by setting `normalize=True`.\n",
    "    \"\"\"\n",
    "    if normalize:\n",
    "        cm = cm.astype('float') / cm.sum(axis=1)[:, np.newaxis]\n",
    "\n",
    "    plt.imshow(cm, interpolation='nearest', cmap=cmap)\n",
    "    plt.title(title)\n",
    "    plt.colorbar()\n",
    "    tick_marks = np.arange(len(classes))\n",
    "    plt.xticks(tick_marks, classes, rotation=45)\n",
    "    plt.yticks(tick_marks, classes)\n",
    "\n",
    "    fmt = '.2f' if normalize else 'd'\n",
    "    thresh = cm.max() / 2.\n",
    "    for i, j in itertools.product(range(cm.shape[0]), range(cm.shape[1])):\n",
    "        plt.text(j, i, format(cm[i, j], fmt),\n",
    "                 horizontalalignment=\"center\",\n",
    "                 color=\"white\" if cm[i, j] > thresh else \"black\")\n",
    "\n",
    "    plt.tight_layout()\n",
    "    plt.ylabel('True label',fontsize=15)\n",
    "    plt.xlabel('Predicted label',fontsize=15)\n",
    "    \n",
    "    \n",
    "# Print accuracy:\n",
    "print(\"Accuracy: \", accuracy_score(y_test, y_pred_class))\n",
    "\n",
    "    \n",
    "# print the confusion matrix\n",
    "cnf_matrix = confusion_matrix(y_test, y_pred_class)\n",
    "plt.figure(figsize=(8,6))\n",
    "plot_confusion_matrix(cnf_matrix, classes=['dev_ateam', 'dev_fe'], normalize=True,\n",
    "                      title='Confusion matrix with all features')\n"
   ]
  },
  {
   "cell_type": "markdown",
   "metadata": {
    "id": "ga5-KhYN5xaD"
   },
   "source": [
    "At this point, we can notice that the classifier is doing poorly with identifying development tickets because of the unbalance. Let us change the count vectorizer to take a certain number of features as maximum. "
   ]
  },
  {
   "cell_type": "markdown",
   "metadata": {
    "id": "2JzJ6k7g5xaL"
   },
   "source": [
    "Let us try another classification algorithm and see if the performance changes. For this experiment, we have considered logistic regression, with class_weight attribute as \"balanced\", to address the problem of class imbalance in this dataset."
   ]
  },
  {
   "cell_type": "code",
   "execution_count": 14,
   "metadata": {
    "colab": {
     "base_uri": "https://localhost:8080/",
     "height": 494
    },
    "id": "0v7pM9hB5xbA",
    "outputId": "292bdf0c-924b-494b-ffae-c4914f2f5db9"
   },
   "outputs": [
    {
     "name": "stdout",
     "output_type": "stream",
     "text": [
      "Accuracy:  0.7948717948717948\n"
     ]
    },
    {
     "data": {
      "image/png": "[encoded data removed]",
      "text/plain": [
       "<Figure size 576x432 with 2 Axes>"
      ]
     },
     "metadata": {
      "needs_background": "light"
     },
     "output_type": "display_data"
    }
   ],
   "source": [
    "from sklearn.linear_model import LogisticRegression # import\n",
    "\n",
    "logreg = LogisticRegression(class_weight=\"balanced\") # instantiate a logistic regression model\n",
    "logreg.fit(X_tl, y_tl) # fit the model with training data\n",
    "\n",
    "# Make predictions on test data\n",
    "y_pred_class = logreg.predict(X_test_dtm)\n",
    "\n",
    "# calculate evaluation measures:\n",
    "print(\"Accuracy: \", accuracy_score(y_test, y_pred_class))\n",
    "cnf_matrix = confusion_matrix(y_test, y_pred_class)\n",
    "plt.figure(figsize=(8,6))\n",
    "plot_confusion_matrix(cnf_matrix, classes=['dev_ateam', 'dev_fe'],normalize=True,\n",
    "                      title='Confusion matrix with normalization')"
   ]
  },
  {
   "cell_type": "markdown",
   "metadata": {
    "id": "6v1evQyy5xbe"
   },
   "source": [
    "Let us wrap this notebook by trying with one more classifier"
   ]
  },
  {
   "cell_type": "code",
   "execution_count": 15,
   "metadata": {
    "colab": {
     "base_uri": "https://localhost:8080/",
     "height": 494
    },
    "id": "XJLKusAQ5xbf",
    "outputId": "4dcdc0d5-4f4f-487a-ac44-2bc6778a0876"
   },
   "outputs": [
    {
     "name": "stdout",
     "output_type": "stream",
     "text": [
      "(192, 2053) (192,)\n",
      "Accuracy:  0.7948717948717948\n"
     ]
    },
    {
     "data": {
      "image/png": "[encoded data removed]",
      "text/plain": [
       "<Figure size 576x432 with 2 Axes>"
      ]
     },
     "metadata": {
      "needs_background": "light"
     },
     "output_type": "display_data"
    }
   ],
   "source": [
    "from sklearn.svm import LinearSVC\n",
    "\n",
    "vect = CountVectorizer(preprocessor=clean) # Step-1\n",
    "X_train_dtm = vect.fit_transform(X_train) # combined step 2 and 3\n",
    "X_test_dtm = vect.transform(X_test)\n",
    "\n",
    "tl = SMOTE()\n",
    "X_tl, y_tl = tl.fit_resample(X_train_dtm, y_train)\n",
    "print(X_tl.shape, y_tl.shape)\n",
    "\n",
    "classifier = LinearSVC(class_weight='balanced') # instantiate a logistic regression model\n",
    "classifier.fit(X_tl, y_tl) # fit the model with training data\n",
    "\n",
    "# Make predictions on test data\n",
    "y_pred_class = classifier.predict(X_test_dtm)\n",
    "\n",
    "# calculate evaluation measures:\n",
    "print(\"Accuracy: \", accuracy_score(y_test, y_pred_class))\n",
    "cnf_matrix = confusion_matrix(y_test, y_pred_class)\n",
    "plt.figure(figsize=(8,6))\n",
    "plot_confusion_matrix(cnf_matrix, classes=['dev_ateam', 'dev_fe'],normalize=True,\n",
    "                      title='Confusion matrix with normalization')"
   ]
  },
  {
   "cell_type": "markdown",
   "metadata": {
    "id": "Fd_-M70F5xbl"
   },
   "source": [
    "#### TODO Explain here the summary"
   ]
  }
 ],
 "metadata": {
  "colab": {
   "collapsed_sections": [],
   "name": "01_OnePipeline_ManyClassifiers.ipynb",
   "provenance": []
  },
  "kernelspec": {
   "display_name": "Python 3 (ipykernel)",
   "language": "python",
   "name": "python3"
  },
  "language_info": {
   "codemirror_mode": {
    "name": "ipython",
    "version": 3
   },
   "file_extension": ".py",
   "mimetype": "text/x-python",
   "name": "python",
   "nbconvert_exporter": "python",
   "pygments_lexer": "ipython3",
   "version": "3.8.10"
  }
 },
 "nbformat": 4,
 "nbformat_minor": 4
}
